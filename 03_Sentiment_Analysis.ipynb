{
 "cells": [
  {
   "cell_type": "markdown",
   "id": "81e45eef",
   "metadata": {},
   "source": [
    "# Tweet Sentiment Analysis"
   ]
  },
  {
   "cell_type": "markdown",
   "id": "470ce09d",
   "metadata": {},
   "source": [
    "In this notebook we are going to train 2 models (Logistic Regression and Random Forest) on the tweets we scraped in notebook 1 and cleaned and labeled in notebook 2. We will look a model performance and their limitations."
   ]
  },
  {
   "cell_type": "code",
   "execution_count": 1,
   "id": "c375eef9",
   "metadata": {},
   "outputs": [],
   "source": [
    "import pandas as pd\n",
    "import numpy as np\n",
    "from matplotlib import pyplot as plt\n",
    "import seaborn as sns\n",
    "from nltk.corpus import stopwords\n",
    "from sklearn.model_selection import train_test_split\n",
    "from sklearn.linear_model import LogisticRegression\n",
    "from sklearn.ensemble import RandomForestClassifier\n",
    "from sklearn.feature_extraction.text import TfidfVectorizer, CountVectorizer\n",
    "from sklearn.metrics import confusion_matrix\n",
    "from sklearn.metrics import classification_report\n",
    "\n",
    "pd.set_option('max_colwidth', None)"
   ]
  },
  {
   "cell_type": "markdown",
   "id": "2c690677",
   "metadata": {},
   "source": [
    "As usual let's start having a look at the data. \n",
    "\n",
    "We have two columns: cleaned/lemmatized text and sentiment label. That's all we need to predict the sentiments."
   ]
  },
  {
   "cell_type": "code",
   "execution_count": 2,
   "id": "79ccf3c0",
   "metadata": {
    "scrolled": false
   },
   "outputs": [
    {
     "data": {
      "text/html": [
       "<div>\n",
       "<style scoped>\n",
       "    .dataframe tbody tr th:only-of-type {\n",
       "        vertical-align: middle;\n",
       "    }\n",
       "\n",
       "    .dataframe tbody tr th {\n",
       "        vertical-align: top;\n",
       "    }\n",
       "\n",
       "    .dataframe thead th {\n",
       "        text-align: right;\n",
       "    }\n",
       "</style>\n",
       "<table border=\"1\" class=\"dataframe\">\n",
       "  <thead>\n",
       "    <tr style=\"text-align: right;\">\n",
       "      <th></th>\n",
       "      <th>Tweet</th>\n",
       "      <th>Sentiment</th>\n",
       "    </tr>\n",
       "  </thead>\n",
       "  <tbody>\n",
       "    <tr>\n",
       "      <th>0</th>\n",
       "      <td>zydus group announce its new brand identity with the list entity of the group cadila healthcare limit to be now know as zyduslifescience limit more</td>\n",
       "      <td>Neutral</td>\n",
       "    </tr>\n",
       "    <tr>\n",
       "      <th>1</th>\n",
       "      <td>danger of take it or leave it compromise outcome on tripswaiver south africa express concern that the delay in approve a trip waiver be hamper effort to diversify proper production of vaccine amp address vaccine inequity covid</td>\n",
       "      <td>Negative</td>\n",
       "    </tr>\n",
       "    <tr>\n",
       "      <th>2</th>\n",
       "      <td>nstnation state health director dr othman warijo say the case involve a year old girl with a history of asthma who receive her vaccine at the sultanah bahiyah hospital kedah child vaccine covid pickid</td>\n",
       "      <td>Neutral</td>\n",
       "    </tr>\n",
       "    <tr>\n",
       "      <th>3</th>\n",
       "      <td>non medical face mask kn protect you from non oily airborne pollutant immunity vaccine testkit glove plymask ff kn</td>\n",
       "      <td>Positive</td>\n",
       "    </tr>\n",
       "    <tr>\n",
       "      <th>4</th>\n",
       "      <td>forsale vaccine covid covid medical life domain technology tech science medicine doctor daysofcode bot meme bigdata security cloud javascript java datascience machinelearne web nft vc investor socialmedia branding ai</td>\n",
       "      <td>Positive</td>\n",
       "    </tr>\n",
       "    <tr>\n",
       "      <th>5</th>\n",
       "      <td>by now the success of vaccine from and manipulate datum by pfizer about the vaccine be all over the world despite this if a tweet like this come suspect credential of the messager</td>\n",
       "      <td>Positive</td>\n",
       "    </tr>\n",
       "    <tr>\n",
       "      <th>6</th>\n",
       "      <td>another achievement in india 's fight against covid corbevax the makeinindia vaccine have be approve for emergency use for child in the age group of year indiafightscorona</td>\n",
       "      <td>Negative</td>\n",
       "    </tr>\n",
       "    <tr>\n",
       "      <th>7</th>\n",
       "      <td>australia epidemiologist warn it be too early to unwind covid health measure keep wear mask distance get booster vaccine covid aus covid au mask vaccines vaccination covid longcovid auspol nswpol qldpol saparli springst</td>\n",
       "      <td>Negative</td>\n",
       "    </tr>\n",
       "    <tr>\n",
       "      <th>8</th>\n",
       "      <td>multilingual news service arabic february news covid media coronavirus currentaffair breakingnews journalism corona trend latestnew politic article press community vaccine arabic</td>\n",
       "      <td>Neutral</td>\n",
       "    </tr>\n",
       "    <tr>\n",
       "      <th>9</th>\n",
       "      <td>ahmedabad have at least new slot available between amp covishield dose dose covaxin dose dose book one now at vaccine cowin covid ahmedabad</td>\n",
       "      <td>Neutral</td>\n",
       "    </tr>\n",
       "    <tr>\n",
       "      <th>10</th>\n",
       "      <td>herd immunity have always be the way not this vaccine insanity that have create at least as much grief as relief not least anger division amp deep distrust btw ppl amp gov't leave we alone let we get infect if we must amp then move on with our life</td>\n",
       "      <td>Negative</td>\n",
       "    </tr>\n",
       "    <tr>\n",
       "      <th>11</th>\n",
       "      <td>once claim overpopulation to be control and far he claim human life should be save do not both be controversial he support vaccine to make his pharmaceutical brother more rich why vaccine be avoid by a large group</td>\n",
       "      <td>Positive</td>\n",
       "    </tr>\n",
       "    <tr>\n",
       "      <th>12</th>\n",
       "      <td>dbt birac support novel covid vaccine candidate corbevaxtm develop by biological e limited receive dcgi approval for emergency newsonline covid omicron dbt birac vaccine corbevaxtm emergency authorization eua dcgi</td>\n",
       "      <td>Positive</td>\n",
       "    </tr>\n",
       "    <tr>\n",
       "      <th>13</th>\n",
       "      <td>multilingual news service maltese february news covid media coronavirus currentaffair breakingnew politic article press community melbourne australia multilingual multicultural radio multilingualnewsservice vaccine maltese</td>\n",
       "      <td>Neutral</td>\n",
       "    </tr>\n",
       "    <tr>\n",
       "      <th>14</th>\n",
       "      <td>plant base covid vaccine vaccinesideeffect what happen to glaxo solution in</td>\n",
       "      <td>Positive</td>\n",
       "    </tr>\n",
       "    <tr>\n",
       "      <th>15</th>\n",
       "      <td>let we stay vigilant as we move forward to bright day ahead notimeliketoday cc cc vaccine nonvaccine ceem inlandempire sanbernardinocounty riversidecounty chinocounty lacounty inlandempirenew covid coronavirus</td>\n",
       "      <td>Positive</td>\n",
       "    </tr>\n",
       "    <tr>\n",
       "      <th>16</th>\n",
       "      <td>covid nepal update as limited as our data be there be be some even more fluctuation in vaccine datum of late twice massive daily vaccine number be report amp then correct chart amp chart where we be with mohp 's projection covidvaccine</td>\n",
       "      <td>Negative</td>\n",
       "    </tr>\n",
       "    <tr>\n",
       "      <th>17</th>\n",
       "      <td>european drug maker sanofi and gsk announce positive result from late stage clinical testing of a new vaccine that will be name vidprevtyn the company plan to seek authorization for the shot in the us and europe covid</td>\n",
       "      <td>Positive</td>\n",
       "    </tr>\n",
       "    <tr>\n",
       "      <th>18</th>\n",
       "      <td>we still need to arrest facui bitch ass pelosi bitch ass bill gate bitch ass moderna ceo bitch ass and pfizer bitch ass all these bitch ass need jail for life vaccine</td>\n",
       "      <td>Negative</td>\n",
       "    </tr>\n",
       "    <tr>\n",
       "      <th>19</th>\n",
       "      <td>south delhi have at least new slot available between amp covishield dose dose covaxin dose dose book one now at vaccine cowin covid delhi</td>\n",
       "      <td>Neutral</td>\n",
       "    </tr>\n",
       "    <tr>\n",
       "      <th>20</th>\n",
       "      <td>within one year africa have go from wait for its first covid vaccine shipment from the who support global covax facility to have excess dose available covid vaccine report by</td>\n",
       "      <td>Positive</td>\n",
       "    </tr>\n",
       "    <tr>\n",
       "      <th>21</th>\n",
       "      <td>make sure to check their vaccine status vaccinemandate</td>\n",
       "      <td>Positive</td>\n",
       "    </tr>\n",
       "    <tr>\n",
       "      <th>22</th>\n",
       "      <td>what the government amp fake news do not want you to know people die while on camera after take the vaccine extermination</td>\n",
       "      <td>Negative</td>\n",
       "    </tr>\n",
       "    <tr>\n",
       "      <th>23</th>\n",
       "      <td>the late vaccination forecast where do india stand on the pace of vaccination get a close look at how fast india be vaccinate with mc pro 's herd immunity tracker at by omicron covid vaccine herdimmunity</td>\n",
       "      <td>Neutral</td>\n",
       "    </tr>\n",
       "    <tr>\n",
       "      <th>24</th>\n",
       "      <td>here be our front page for today vietnam covid vaccine business economy russia ukraine</td>\n",
       "      <td>Neutral</td>\n",
       "    </tr>\n",
       "    <tr>\n",
       "      <th>25</th>\n",
       "      <td>ontario administer covid vaccine dose on thursday february the day average be the total number of administer dose be now of the population datum from</td>\n",
       "      <td>Neutral</td>\n",
       "    </tr>\n",
       "    <tr>\n",
       "      <th>26</th>\n",
       "      <td>never miss an opportunity to play the vaxx card ukraine russia covid vaccine</td>\n",
       "      <td>Positive</td>\n",
       "    </tr>\n",
       "    <tr>\n",
       "      <th>27</th>\n",
       "      <td>on february million people in bangladesh will receive the first dose of covid vaccine under this nationwide program all registered and unregistered citizen will get the first jab get vaccinate and protect your love one vaccineforall thankyoupm</td>\n",
       "      <td>Positive</td>\n",
       "    </tr>\n",
       "    <tr>\n",
       "      <th>28</th>\n",
       "      <td>cool travel face mask for all of we who can not wait to get back to travel often travel vacation roadtrip mask covid vaccine</td>\n",
       "      <td>Positive</td>\n",
       "    </tr>\n",
       "    <tr>\n",
       "      <th>29</th>\n",
       "      <td>something seem fishy between covid china vaccine russia there be plenty more so please add if you would like what be our world actually become covid china vaccine russia ukraine worldwar world whatsnext tweetoftheday watch</td>\n",
       "      <td>Positive</td>\n",
       "    </tr>\n",
       "    <tr>\n",
       "      <th>30</th>\n",
       "      <td>trump donaldjtrumpjr kimkbaltimore karilake seanhannity tuckercarlson tedcruz covid vaccine virus mandate trudeau truck ottawa canada ukraine russia putin the orangutan suppose assistance be not worth s t do she just make thing up as she go along</td>\n",
       "      <td>Negative</td>\n",
       "    </tr>\n",
       "    <tr>\n",
       "      <th>31</th>\n",
       "      <td>I ve get covid right now I have get a bad cough sore throat headache body ache and chill fever thankful for the vaccine though because who know how bad I would be without it vaccine</td>\n",
       "      <td>Negative</td>\n",
       "    </tr>\n",
       "    <tr>\n",
       "      <th>32</th>\n",
       "      <td>monitor health after get booster shot thesun thesundaily covid vaccine booster moh</td>\n",
       "      <td>Neutral</td>\n",
       "    </tr>\n",
       "    <tr>\n",
       "      <th>33</th>\n",
       "      <td>boost covid covid covid vaccine vaccine vax vaxxed vaccination</td>\n",
       "      <td>Positive</td>\n",
       "    </tr>\n",
       "    <tr>\n",
       "      <th>34</th>\n",
       "      <td>the would like to impeach if russia will leave alone that be a sacrifice america be willing to do because trump support putin putin represent the republican party support for the vaccine mandate foxnew</td>\n",
       "      <td>Positive</td>\n",
       "    </tr>\n",
       "    <tr>\n",
       "      <th>35</th>\n",
       "      <td>healthcanada authorizes plantbase canadian develop covid vaccine medicago corbevax novavax bexovid covidpill ivermectin pfizerlabrat guineapig cdnpoli peoplesconvoy letfreedomroll freedomconvoy turdeau treason tyranny onpoli</td>\n",
       "      <td>Negative</td>\n",
       "    </tr>\n",
       "    <tr>\n",
       "      <th>36</th>\n",
       "      <td>international cooperation be not a one way street watch and discuss vaccine diplomacy and india 's role as an emerge solution provider raisina globalhealth</td>\n",
       "      <td>Positive</td>\n",
       "    </tr>\n",
       "    <tr>\n",
       "      <th>37</th>\n",
       "      <td>st shot nd shot booster available on over product sticker tshirt pillow mug mask vaccine booster</td>\n",
       "      <td>Neutral</td>\n",
       "    </tr>\n",
       "    <tr>\n",
       "      <th>38</th>\n",
       "      <td>serological response to heterologous covid mrna vaccination in old individual coronavirus covid sarscov vaccine</td>\n",
       "      <td>Neutral</td>\n",
       "    </tr>\n",
       "    <tr>\n",
       "      <th>39</th>\n",
       "      <td>serological response to heterologous covid mrna vaccination in old individual coronavirus covid sarscov vaccine</td>\n",
       "      <td>Neutral</td>\n",
       "    </tr>\n",
       "    <tr>\n",
       "      <th>40</th>\n",
       "      <td>first spread of virus come from china first vaccine come from russia be this the plan to conquer world by make ot weak china be already have troop in arunachalpradesh ukraineinvasion imperialism invasionofukraine worldwariii putin</td>\n",
       "      <td>Negative</td>\n",
       "    </tr>\n",
       "    <tr>\n",
       "      <th>41</th>\n",
       "      <td>covid news story that have I concerned about more than the virus by justiss goode jun medium via read this story about how one teenager struggle to go against his parent wish about get the covid vaccine this year</td>\n",
       "      <td>Positive</td>\n",
       "    </tr>\n",
       "    <tr>\n",
       "      <th>42</th>\n",
       "      <td>I be vaccinate ii monodeepghosh vaccine vaccinate monolinghosh</td>\n",
       "      <td>Neutral</td>\n",
       "    </tr>\n",
       "    <tr>\n",
       "      <th>43</th>\n",
       "      <td>anti epidemic supply provide by china be fly to kiribati 's capital tarawa on wednesday to help the south pacific island country to cope with the covid pandemic coronavirus vaccine</td>\n",
       "      <td>Positive</td>\n",
       "    </tr>\n",
       "    <tr>\n",
       "      <th>44</th>\n",
       "      <td>thank for allow we to raise our voice about vaccine equity we must be equitable</td>\n",
       "      <td>Positive</td>\n",
       "    </tr>\n",
       "    <tr>\n",
       "      <th>45</th>\n",
       "      <td>let we stay vigilant as we move forward to bright day ahead notimeliketoday cc cc vaccine nonvaccine ceem inlandempire sanbernardinocounty riversidecounty chinocounty lacounty inlandempirenew covid coronavirus</td>\n",
       "      <td>Positive</td>\n",
       "    </tr>\n",
       "    <tr>\n",
       "      <th>46</th>\n",
       "      <td>should covid vaccination be require for camp via atlanta jewish georgia northcarolina covid covid covidvaccine covidvaccination vaccine judaism camp</td>\n",
       "      <td>Neutral</td>\n",
       "    </tr>\n",
       "    <tr>\n",
       "      <th>47</th>\n",
       "      <td>bangladesh would require international support to ramp up its vaccine production to avoid jeopardise its sovereignty in the search for foreign vaccine suggest covid</td>\n",
       "      <td>Positive</td>\n",
       "    </tr>\n",
       "    <tr>\n",
       "      <th>48</th>\n",
       "      <td>and can you name the us top health bureaucrat nih hold financial interest in the moderna vaccine</td>\n",
       "      <td>Positive</td>\n",
       "    </tr>\n",
       "    <tr>\n",
       "      <th>49</th>\n",
       "      <td>covid vaccines world 's first plant base vaccine approve in canada covid coronavirus vaccine omicronvariant</td>\n",
       "      <td>Neutral</td>\n",
       "    </tr>\n",
       "  </tbody>\n",
       "</table>\n",
       "</div>"
      ],
      "text/plain": [
       "                                                                                                                                                                                                                                                       Tweet  \\\n",
       "0                                                                                                        zydus group announce its new brand identity with the list entity of the group cadila healthcare limit to be now know as zyduslifescience limit more   \n",
       "1                         danger of take it or leave it compromise outcome on tripswaiver south africa express concern that the delay in approve a trip waiver be hamper effort to diversify proper production of vaccine amp address vaccine inequity covid   \n",
       "2                                                   nstnation state health director dr othman warijo say the case involve a year old girl with a history of asthma who receive her vaccine at the sultanah bahiyah hospital kedah child vaccine covid pickid   \n",
       "3                                                                                                                                         non medical face mask kn protect you from non oily airborne pollutant immunity vaccine testkit glove plymask ff kn   \n",
       "4                                   forsale vaccine covid covid medical life domain technology tech science medicine doctor daysofcode bot meme bigdata security cloud javascript java datascience machinelearne web nft vc investor socialmedia branding ai   \n",
       "5                                                                        by now the success of vaccine from and manipulate datum by pfizer about the vaccine be all over the world despite this if a tweet like this come suspect credential of the messager   \n",
       "6                                                                                another achievement in india 's fight against covid corbevax the makeinindia vaccine have be approve for emergency use for child in the age group of year indiafightscorona   \n",
       "7                                australia epidemiologist warn it be too early to unwind covid health measure keep wear mask distance get booster vaccine covid aus covid au mask vaccines vaccination covid longcovid auspol nswpol qldpol saparli springst   \n",
       "8                                                                         multilingual news service arabic february news covid media coronavirus currentaffair breakingnews journalism corona trend latestnew politic article press community vaccine arabic   \n",
       "9                                                                                                                ahmedabad have at least new slot available between amp covishield dose dose covaxin dose dose book one now at vaccine cowin covid ahmedabad   \n",
       "10  herd immunity have always be the way not this vaccine insanity that have create at least as much grief as relief not least anger division amp deep distrust btw ppl amp gov't leave we alone let we get infect if we must amp then move on with our life   \n",
       "11                                     once claim overpopulation to be control and far he claim human life should be save do not both be controversial he support vaccine to make his pharmaceutical brother more rich why vaccine be avoid by a large group   \n",
       "12                                     dbt birac support novel covid vaccine candidate corbevaxtm develop by biological e limited receive dcgi approval for emergency newsonline covid omicron dbt birac vaccine corbevaxtm emergency authorization eua dcgi   \n",
       "13                            multilingual news service maltese february news covid media coronavirus currentaffair breakingnew politic article press community melbourne australia multilingual multicultural radio multilingualnewsservice vaccine maltese   \n",
       "14                                                                                                                                                                               plant base covid vaccine vaccinesideeffect what happen to glaxo solution in   \n",
       "15                                         let we stay vigilant as we move forward to bright day ahead notimeliketoday cc cc vaccine nonvaccine ceem inlandempire sanbernardinocounty riversidecounty chinocounty lacounty inlandempirenew covid coronavirus   \n",
       "16               covid nepal update as limited as our data be there be be some even more fluctuation in vaccine datum of late twice massive daily vaccine number be report amp then correct chart amp chart where we be with mohp 's projection covidvaccine   \n",
       "17                                 european drug maker sanofi and gsk announce positive result from late stage clinical testing of a new vaccine that will be name vidprevtyn the company plan to seek authorization for the shot in the us and europe covid   \n",
       "18                                                                                    we still need to arrest facui bitch ass pelosi bitch ass bill gate bitch ass moderna ceo bitch ass and pfizer bitch ass all these bitch ass need jail for life vaccine   \n",
       "19                                                                                                                 south delhi have at least new slot available between amp covishield dose dose covaxin dose dose book one now at vaccine cowin covid delhi   \n",
       "20                                                                            within one year africa have go from wait for its first covid vaccine shipment from the who support global covax facility to have excess dose available covid vaccine report by   \n",
       "21                                                                                                                                                                                                    make sure to check their vaccine status vaccinemandate   \n",
       "22                                                                                                                                 what the government amp fake news do not want you to know people die while on camera after take the vaccine extermination   \n",
       "23                                               the late vaccination forecast where do india stand on the pace of vaccination get a close look at how fast india be vaccinate with mc pro 's herd immunity tracker at by omicron covid vaccine herdimmunity   \n",
       "24                                                                                                                                                                    here be our front page for today vietnam covid vaccine business economy russia ukraine   \n",
       "25                                                                                                     ontario administer covid vaccine dose on thursday february the day average be the total number of administer dose be now of the population datum from   \n",
       "26                                                                                                                                                                              never miss an opportunity to play the vaxx card ukraine russia covid vaccine   \n",
       "27       on february million people in bangladesh will receive the first dose of covid vaccine under this nationwide program all registered and unregistered citizen will get the first jab get vaccinate and protect your love one vaccineforall thankyoupm   \n",
       "28                                                                                                                              cool travel face mask for all of we who can not wait to get back to travel often travel vacation roadtrip mask covid vaccine   \n",
       "29                            something seem fishy between covid china vaccine russia there be plenty more so please add if you would like what be our world actually become covid china vaccine russia ukraine worldwar world whatsnext tweetoftheday watch   \n",
       "30    trump donaldjtrumpjr kimkbaltimore karilake seanhannity tuckercarlson tedcruz covid vaccine virus mandate trudeau truck ottawa canada ukraine russia putin the orangutan suppose assistance be not worth s t do she just make thing up as she go along   \n",
       "31                                                                     I ve get covid right now I have get a bad cough sore throat headache body ache and chill fever thankful for the vaccine though because who know how bad I would be without it vaccine   \n",
       "32                                                                                                                                                                        monitor health after get booster shot thesun thesundaily covid vaccine booster moh   \n",
       "33                                                                                                                                                                                            boost covid covid covid vaccine vaccine vax vaxxed vaccination   \n",
       "34                                                 the would like to impeach if russia will leave alone that be a sacrifice america be willing to do because trump support putin putin represent the republican party support for the vaccine mandate foxnew   \n",
       "35                          healthcanada authorizes plantbase canadian develop covid vaccine medicago corbevax novavax bexovid covidpill ivermectin pfizerlabrat guineapig cdnpoli peoplesconvoy letfreedomroll freedomconvoy turdeau treason tyranny onpoli   \n",
       "36                                                                                               international cooperation be not a one way street watch and discuss vaccine diplomacy and india 's role as an emerge solution provider raisina globalhealth   \n",
       "37                                                                                                                                                          st shot nd shot booster available on over product sticker tshirt pillow mug mask vaccine booster   \n",
       "38                                                                                                                                           serological response to heterologous covid mrna vaccination in old individual coronavirus covid sarscov vaccine   \n",
       "39                                                                                                                                           serological response to heterologous covid mrna vaccination in old individual coronavirus covid sarscov vaccine   \n",
       "40                    first spread of virus come from china first vaccine come from russia be this the plan to conquer world by make ot weak china be already have troop in arunachalpradesh ukraineinvasion imperialism invasionofukraine worldwariii putin   \n",
       "41                                      covid news story that have I concerned about more than the virus by justiss goode jun medium via read this story about how one teenager struggle to go against his parent wish about get the covid vaccine this year   \n",
       "42                                                                                                                                                                                            I be vaccinate ii monodeepghosh vaccine vaccinate monolinghosh   \n",
       "43                                                                      anti epidemic supply provide by china be fly to kiribati 's capital tarawa on wednesday to help the south pacific island country to cope with the covid pandemic coronavirus vaccine   \n",
       "44                                                                                                                                                                           thank for allow we to raise our voice about vaccine equity we must be equitable   \n",
       "45                                         let we stay vigilant as we move forward to bright day ahead notimeliketoday cc cc vaccine nonvaccine ceem inlandempire sanbernardinocounty riversidecounty chinocounty lacounty inlandempirenew covid coronavirus   \n",
       "46                                                                                                      should covid vaccination be require for camp via atlanta jewish georgia northcarolina covid covid covidvaccine covidvaccination vaccine judaism camp   \n",
       "47                                                                                      bangladesh would require international support to ramp up its vaccine production to avoid jeopardise its sovereignty in the search for foreign vaccine suggest covid   \n",
       "48                                                                                                                                                          and can you name the us top health bureaucrat nih hold financial interest in the moderna vaccine   \n",
       "49                                                                                                                                               covid vaccines world 's first plant base vaccine approve in canada covid coronavirus vaccine omicronvariant   \n",
       "\n",
       "   Sentiment  \n",
       "0    Neutral  \n",
       "1   Negative  \n",
       "2    Neutral  \n",
       "3   Positive  \n",
       "4   Positive  \n",
       "5   Positive  \n",
       "6   Negative  \n",
       "7   Negative  \n",
       "8    Neutral  \n",
       "9    Neutral  \n",
       "10  Negative  \n",
       "11  Positive  \n",
       "12  Positive  \n",
       "13   Neutral  \n",
       "14  Positive  \n",
       "15  Positive  \n",
       "16  Negative  \n",
       "17  Positive  \n",
       "18  Negative  \n",
       "19   Neutral  \n",
       "20  Positive  \n",
       "21  Positive  \n",
       "22  Negative  \n",
       "23   Neutral  \n",
       "24   Neutral  \n",
       "25   Neutral  \n",
       "26  Positive  \n",
       "27  Positive  \n",
       "28  Positive  \n",
       "29  Positive  \n",
       "30  Negative  \n",
       "31  Negative  \n",
       "32   Neutral  \n",
       "33  Positive  \n",
       "34  Positive  \n",
       "35  Negative  \n",
       "36  Positive  \n",
       "37   Neutral  \n",
       "38   Neutral  \n",
       "39   Neutral  \n",
       "40  Negative  \n",
       "41  Positive  \n",
       "42   Neutral  \n",
       "43  Positive  \n",
       "44  Positive  \n",
       "45  Positive  \n",
       "46   Neutral  \n",
       "47  Positive  \n",
       "48  Positive  \n",
       "49   Neutral  "
      ]
     },
     "execution_count": 2,
     "metadata": {},
     "output_type": "execute_result"
    }
   ],
   "source": [
    "df = pd.read_csv('data/tweets_processed.csv')\n",
    "df.rename(columns={'lemmatized_tweets': 'Tweet', 'VADER_sentiment':'Sentiment'}, inplace=True)\n",
    "df.head(50)"
   ]
  },
  {
   "cell_type": "code",
   "execution_count": 3,
   "id": "2d5c831f",
   "metadata": {},
   "outputs": [],
   "source": [
    "df.dropna(inplace=True)"
   ]
  },
  {
   "cell_type": "markdown",
   "id": "b3212992",
   "metadata": {},
   "source": [
    "Instead of having the name of the sentiment I have decided to label them with numbers and mapped them as foolow:\n",
    "\n",
    "- 1: Postive sentiment\n",
    "- 0: Neutral sentiment\n",
    "- -1: Negative sentiment"
   ]
  },
  {
   "cell_type": "code",
   "execution_count": 4,
   "id": "35f39c63",
   "metadata": {},
   "outputs": [],
   "source": [
    "df['label'] = df['Sentiment'].map({'Positive': 1, 'Neutral': 0, 'Negative': -1})"
   ]
  },
  {
   "cell_type": "code",
   "execution_count": 5,
   "id": "0df115d6",
   "metadata": {},
   "outputs": [
    {
     "data": {
      "text/html": [
       "<div>\n",
       "<style scoped>\n",
       "    .dataframe tbody tr th:only-of-type {\n",
       "        vertical-align: middle;\n",
       "    }\n",
       "\n",
       "    .dataframe tbody tr th {\n",
       "        vertical-align: top;\n",
       "    }\n",
       "\n",
       "    .dataframe thead th {\n",
       "        text-align: right;\n",
       "    }\n",
       "</style>\n",
       "<table border=\"1\" class=\"dataframe\">\n",
       "  <thead>\n",
       "    <tr style=\"text-align: right;\">\n",
       "      <th></th>\n",
       "      <th>Tweet</th>\n",
       "      <th>Sentiment</th>\n",
       "      <th>label</th>\n",
       "    </tr>\n",
       "  </thead>\n",
       "  <tbody>\n",
       "    <tr>\n",
       "      <th>0</th>\n",
       "      <td>zydus group announce its new brand identity with the list entity of the group cadila healthcare limit to be now know as zyduslifescience limit more</td>\n",
       "      <td>Neutral</td>\n",
       "      <td>0</td>\n",
       "    </tr>\n",
       "    <tr>\n",
       "      <th>1</th>\n",
       "      <td>danger of take it or leave it compromise outcome on tripswaiver south africa express concern that the delay in approve a trip waiver be hamper effort to diversify proper production of vaccine amp address vaccine inequity covid</td>\n",
       "      <td>Negative</td>\n",
       "      <td>-1</td>\n",
       "    </tr>\n",
       "    <tr>\n",
       "      <th>2</th>\n",
       "      <td>nstnation state health director dr othman warijo say the case involve a year old girl with a history of asthma who receive her vaccine at the sultanah bahiyah hospital kedah child vaccine covid pickid</td>\n",
       "      <td>Neutral</td>\n",
       "      <td>0</td>\n",
       "    </tr>\n",
       "    <tr>\n",
       "      <th>3</th>\n",
       "      <td>non medical face mask kn protect you from non oily airborne pollutant immunity vaccine testkit glove plymask ff kn</td>\n",
       "      <td>Positive</td>\n",
       "      <td>1</td>\n",
       "    </tr>\n",
       "    <tr>\n",
       "      <th>4</th>\n",
       "      <td>forsale vaccine covid covid medical life domain technology tech science medicine doctor daysofcode bot meme bigdata security cloud javascript java datascience machinelearne web nft vc investor socialmedia branding ai</td>\n",
       "      <td>Positive</td>\n",
       "      <td>1</td>\n",
       "    </tr>\n",
       "  </tbody>\n",
       "</table>\n",
       "</div>"
      ],
      "text/plain": [
       "                                                                                                                                                                                                                                Tweet  \\\n",
       "0                                                                                 zydus group announce its new brand identity with the list entity of the group cadila healthcare limit to be now know as zyduslifescience limit more   \n",
       "1  danger of take it or leave it compromise outcome on tripswaiver south africa express concern that the delay in approve a trip waiver be hamper effort to diversify proper production of vaccine amp address vaccine inequity covid   \n",
       "2                            nstnation state health director dr othman warijo say the case involve a year old girl with a history of asthma who receive her vaccine at the sultanah bahiyah hospital kedah child vaccine covid pickid   \n",
       "3                                                                                                                  non medical face mask kn protect you from non oily airborne pollutant immunity vaccine testkit glove plymask ff kn   \n",
       "4            forsale vaccine covid covid medical life domain technology tech science medicine doctor daysofcode bot meme bigdata security cloud javascript java datascience machinelearne web nft vc investor socialmedia branding ai   \n",
       "\n",
       "  Sentiment  label  \n",
       "0   Neutral      0  \n",
       "1  Negative     -1  \n",
       "2   Neutral      0  \n",
       "3  Positive      1  \n",
       "4  Positive      1  "
      ]
     },
     "execution_count": 5,
     "metadata": {},
     "output_type": "execute_result"
    }
   ],
   "source": [
    "df.head()"
   ]
  },
  {
   "cell_type": "markdown",
   "id": "af3dab29",
   "metadata": {},
   "source": [
    "## Class Balance"
   ]
  },
  {
   "cell_type": "markdown",
   "id": "13124883",
   "metadata": {},
   "source": [
    "Let's have a look at the class balance of the target column (sentiment) to check if we have the potential to have major issues with the model."
   ]
  },
  {
   "cell_type": "code",
   "execution_count": 6,
   "id": "9035b20a",
   "metadata": {},
   "outputs": [],
   "source": [
    "balance = df['Sentiment'].value_counts(normalize=True).mul(100).reset_index()"
   ]
  },
  {
   "cell_type": "code",
   "execution_count": 7,
   "id": "9ee50b52",
   "metadata": {},
   "outputs": [
    {
     "data": {
      "text/html": [
       "<div>\n",
       "<style scoped>\n",
       "    .dataframe tbody tr th:only-of-type {\n",
       "        vertical-align: middle;\n",
       "    }\n",
       "\n",
       "    .dataframe tbody tr th {\n",
       "        vertical-align: top;\n",
       "    }\n",
       "\n",
       "    .dataframe thead th {\n",
       "        text-align: right;\n",
       "    }\n",
       "</style>\n",
       "<table border=\"1\" class=\"dataframe\">\n",
       "  <thead>\n",
       "    <tr style=\"text-align: right;\">\n",
       "      <th></th>\n",
       "      <th>index</th>\n",
       "      <th>Sentiment</th>\n",
       "    </tr>\n",
       "  </thead>\n",
       "  <tbody>\n",
       "    <tr>\n",
       "      <th>0</th>\n",
       "      <td>Positive</td>\n",
       "      <td>40.598920</td>\n",
       "    </tr>\n",
       "    <tr>\n",
       "      <th>1</th>\n",
       "      <td>Neutral</td>\n",
       "      <td>33.038783</td>\n",
       "    </tr>\n",
       "    <tr>\n",
       "      <th>2</th>\n",
       "      <td>Negative</td>\n",
       "      <td>26.362297</td>\n",
       "    </tr>\n",
       "  </tbody>\n",
       "</table>\n",
       "</div>"
      ],
      "text/plain": [
       "      index  Sentiment\n",
       "0  Positive  40.598920\n",
       "1   Neutral  33.038783\n",
       "2  Negative  26.362297"
      ]
     },
     "execution_count": 7,
     "metadata": {},
     "output_type": "execute_result"
    }
   ],
   "source": [
    "balance"
   ]
  },
  {
   "cell_type": "code",
   "execution_count": 8,
   "id": "22dccbe8",
   "metadata": {},
   "outputs": [
    {
     "data": {
      "image/png": "[encoded data removed]",
      "text/plain": [
       "<Figure size 720x540 with 1 Axes>"
      ]
     },
     "metadata": {
      "needs_background": "light"
     },
     "output_type": "display_data"
    }
   ],
   "source": [
    "plt.figure(figsize=(10, 7.5))\n",
    "sns.barplot(data=balance, x='index', y='Sentiment')\n",
    "plt.title('Class Balance: Sentiments in Tweets')\n",
    "plt.xlabel('Sentiment')\n",
    "plt.ylabel('% of counts')\n",
    "plt.show()"
   ]
  },
  {
   "cell_type": "markdown",
   "id": "ed25f622",
   "metadata": {},
   "source": [
    "The target column looks balanced, with a greater fraction of positive tweets, but we can live with this. "
   ]
  },
  {
   "cell_type": "markdown",
   "id": "d22c6efd",
   "metadata": {},
   "source": [
    "## Split dataset"
   ]
  },
  {
   "cell_type": "markdown",
   "id": "14fb783e",
   "metadata": {},
   "source": [
    "We'll now split the dataset in order to check the performance of the model."
   ]
  },
  {
   "cell_type": "code",
   "execution_count": 9,
   "id": "c676205b",
   "metadata": {},
   "outputs": [],
   "source": [
    "X = df['Tweet']\n",
    "y = df['label']\n",
    "\n",
    "# Stratify for y, very important to keep the class balance in train and test\n",
    "X_train, X_test, y_train, y_test = train_test_split(X, y, test_size=0.33, stratify=y)"
   ]
  },
  {
   "cell_type": "markdown",
   "id": "4a88a103",
   "metadata": {},
   "source": [
    "## Vectorizer"
   ]
  },
  {
   "cell_type": "markdown",
   "id": "63de7e69",
   "metadata": {},
   "source": [
    "We are going to use vectorized text to predict sentiment labels. The same that we did in the previous notebook, we will clean the already processed text from English stop words and we'll add some very common words in our corpus like *covid*, *dose*, *vaccine*, *vaccination*, *amp* and *coronavirus*."
   ]
  },
  {
   "cell_type": "code",
   "execution_count": 10,
   "id": "4a534644",
   "metadata": {},
   "outputs": [],
   "source": [
    "stop_words = stopwords.words('english')\n",
    "stop_words.extend(['covid', 'dose', 'vaccine', 'vaccination', 'amp', 'coronavirus', 'get'])"
   ]
  },
  {
   "cell_type": "code",
   "execution_count": 11,
   "id": "236d1680",
   "metadata": {},
   "outputs": [],
   "source": [
    "# Initialize the vectorizer\n",
    "vectorizer = TfidfVectorizer(min_df=5, lowercase=True, stop_words=stop_words)\n",
    "\n",
    "# Fit it on X_train\n",
    "vectorizer.fit(X_train)\n",
    "\n",
    "# Transform\n",
    "X_train_vec = vectorizer.transform(X_train)\n",
    "X_test_vec = vectorizer.transform(X_test)"
   ]
  },
  {
   "cell_type": "code",
   "execution_count": 12,
   "id": "e7a781df",
   "metadata": {},
   "outputs": [
    {
     "name": "stderr",
     "output_type": "stream",
     "text": [
      "C:\\Users\\alberto.marengo\\Anaconda3\\lib\\site-packages\\sklearn\\utils\\deprecation.py:87: FutureWarning: Function get_feature_names is deprecated; get_feature_names is deprecated in 1.0 and will be removed in 1.2. Please use get_feature_names_out instead.\n",
      "  warnings.warn(msg, category=FutureWarning)\n"
     ]
    },
    {
     "data": {
      "text/plain": [
       "800"
      ]
     },
     "execution_count": 12,
     "metadata": {},
     "output_type": "execute_result"
    }
   ],
   "source": [
    "len(vectorizer.get_feature_names())"
   ]
  },
  {
   "cell_type": "markdown",
   "id": "12f58aa3",
   "metadata": {},
   "source": [
    "We have 838 words in the model vocabulary.\n",
    "\n",
    "We can see what those common words are: *help*, *people*, *omicron* and *booster* make the top of the list."
   ]
  },
  {
   "cell_type": "code",
   "execution_count": 13,
   "id": "f43a8204",
   "metadata": {},
   "outputs": [],
   "source": [
    "words = vectorizer.get_feature_names()\n",
    "word_counts = X_train_vec.toarray().sum(axis=0)"
   ]
  },
  {
   "cell_type": "code",
   "execution_count": 14,
   "id": "ec1cff86",
   "metadata": {},
   "outputs": [
    {
     "data": {
      "text/html": [
       "<div>\n",
       "<style scoped>\n",
       "    .dataframe tbody tr th:only-of-type {\n",
       "        vertical-align: middle;\n",
       "    }\n",
       "\n",
       "    .dataframe tbody tr th {\n",
       "        vertical-align: top;\n",
       "    }\n",
       "\n",
       "    .dataframe thead th {\n",
       "        text-align: right;\n",
       "    }\n",
       "</style>\n",
       "<table border=\"1\" class=\"dataframe\">\n",
       "  <thead>\n",
       "    <tr style=\"text-align: right;\">\n",
       "      <th></th>\n",
       "      <th>token</th>\n",
       "      <th>count</th>\n",
       "    </tr>\n",
       "  </thead>\n",
       "  <tbody>\n",
       "    <tr>\n",
       "      <th>82</th>\n",
       "      <td>booster</td>\n",
       "      <td>26.594025</td>\n",
       "    </tr>\n",
       "    <tr>\n",
       "      <th>495</th>\n",
       "      <td>people</td>\n",
       "      <td>25.937563</td>\n",
       "    </tr>\n",
       "    <tr>\n",
       "      <th>290</th>\n",
       "      <td>health</td>\n",
       "      <td>25.345028</td>\n",
       "    </tr>\n",
       "    <tr>\n",
       "      <th>450</th>\n",
       "      <td>new</td>\n",
       "      <td>22.324128</td>\n",
       "    </tr>\n",
       "    <tr>\n",
       "      <th>467</th>\n",
       "      <td>omicron</td>\n",
       "      <td>22.210370</td>\n",
       "    </tr>\n",
       "    <tr>\n",
       "      <th>470</th>\n",
       "      <td>one</td>\n",
       "      <td>21.070487</td>\n",
       "    </tr>\n",
       "    <tr>\n",
       "      <th>481</th>\n",
       "      <td>pandemic</td>\n",
       "      <td>20.736782</td>\n",
       "    </tr>\n",
       "    <tr>\n",
       "      <th>433</th>\n",
       "      <td>mrna</td>\n",
       "      <td>19.605674</td>\n",
       "    </tr>\n",
       "    <tr>\n",
       "      <th>113</th>\n",
       "      <td>child</td>\n",
       "      <td>17.593860</td>\n",
       "    </tr>\n",
       "    <tr>\n",
       "      <th>102</th>\n",
       "      <td>cdc</td>\n",
       "      <td>17.588227</td>\n",
       "    </tr>\n",
       "  </tbody>\n",
       "</table>\n",
       "</div>"
      ],
      "text/plain": [
       "        token      count\n",
       "82    booster  26.594025\n",
       "495    people  25.937563\n",
       "290    health  25.345028\n",
       "450       new  22.324128\n",
       "467   omicron  22.210370\n",
       "470       one  21.070487\n",
       "481  pandemic  20.736782\n",
       "433      mrna  19.605674\n",
       "113     child  17.593860\n",
       "102       cdc  17.588227"
      ]
     },
     "execution_count": 14,
     "metadata": {},
     "output_type": "execute_result"
    }
   ],
   "source": [
    "words_df = pd.DataFrame({\"token\": words, \"count\": word_counts})\n",
    "    \n",
    "words_df.sort_values(by=\"count\", ascending=False).head(10)"
   ]
  },
  {
   "cell_type": "markdown",
   "id": "383ce709",
   "metadata": {},
   "source": [
    "## Modeling"
   ]
  },
  {
   "cell_type": "markdown",
   "id": "95743c38",
   "metadata": {},
   "source": [
    "We will startr fitting a logistic regression model on the train data and acalculate the accuracy on the test data."
   ]
  },
  {
   "cell_type": "markdown",
   "id": "39196c6c",
   "metadata": {},
   "source": [
    "### Logistic Regression"
   ]
  },
  {
   "cell_type": "code",
   "execution_count": 15,
   "id": "fb4d1657",
   "metadata": {},
   "outputs": [
    {
     "name": "stdout",
     "output_type": "stream",
     "text": [
      "Train accuracy: 0.867\n",
      "Validation accuracy: 0.655\n"
     ]
    }
   ],
   "source": [
    "# instantiate a logistic regression\n",
    "logreg = LogisticRegression(max_iter=500)\n",
    "\n",
    "# fit the model to train set only\n",
    "logreg.fit(X_train_vec, y_train)\n",
    "\n",
    "# score the model\n",
    "print(f'Train accuracy: {logreg.score(X_train_vec, y_train).round(3)}')\n",
    "print(f'Validation accuracy: {logreg.score(X_test_vec, y_test).round(3)}')"
   ]
  },
  {
   "cell_type": "markdown",
   "id": "93e8fc99",
   "metadata": {},
   "source": [
    "We got 88% accuracy on the train data and 66% accuracy on the test data. This is not a bad result. \n",
    "\n",
    "Let's look at other metrics and the confusion matrix on the test data."
   ]
  },
  {
   "cell_type": "code",
   "execution_count": 16,
   "id": "72b3eb5c",
   "metadata": {},
   "outputs": [],
   "source": [
    "y_pred = logreg.predict(X_test_vec)"
   ]
  },
  {
   "cell_type": "code",
   "execution_count": 17,
   "id": "da8c7fe1",
   "metadata": {},
   "outputs": [
    {
     "name": "stdout",
     "output_type": "stream",
     "text": [
      "              precision    recall  f1-score   support\n",
      "\n",
      "          -1       0.66      0.50      0.57       178\n",
      "           0       0.65      0.64      0.64       222\n",
      "           1       0.65      0.77      0.71       273\n",
      "\n",
      "    accuracy                           0.66       673\n",
      "   macro avg       0.66      0.64      0.64       673\n",
      "weighted avg       0.66      0.66      0.65       673\n",
      "\n"
     ]
    }
   ],
   "source": [
    "print(classification_report(y_test, y_pred))"
   ]
  },
  {
   "cell_type": "markdown",
   "id": "cb0d6004",
   "metadata": {},
   "source": [
    "We notice right away that the model, overall,  has a good precision and recall on all classes. The model has more difficulties in predicting the negative class (-1), expecially recall.\n",
    "\n",
    "Of all the predicted negative, 66% were actually negative - the model has a decent precision\n",
    "Of all the ones that were actually negative, only 50% were predicted negative - the model struggles recalling (recall metric) the negative class.\n",
    "\n",
    "Below is the confusion matrix  that helps understand it better."
   ]
  },
  {
   "cell_type": "code",
   "execution_count": 18,
   "id": "d7a1d736",
   "metadata": {},
   "outputs": [
    {
     "data": {
      "text/html": [
       "<div>\n",
       "<style scoped>\n",
       "    .dataframe tbody tr th:only-of-type {\n",
       "        vertical-align: middle;\n",
       "    }\n",
       "\n",
       "    .dataframe tbody tr th {\n",
       "        vertical-align: top;\n",
       "    }\n",
       "\n",
       "    .dataframe thead th {\n",
       "        text-align: right;\n",
       "    }\n",
       "</style>\n",
       "<table border=\"1\" class=\"dataframe\">\n",
       "  <thead>\n",
       "    <tr style=\"text-align: right;\">\n",
       "      <th></th>\n",
       "      <th>Predicted -1</th>\n",
       "      <th>Predicted 0</th>\n",
       "      <th>Predicted 1</th>\n",
       "    </tr>\n",
       "  </thead>\n",
       "  <tbody>\n",
       "    <tr>\n",
       "      <th>Actual -1</th>\n",
       "      <td>89</td>\n",
       "      <td>39</td>\n",
       "      <td>50</td>\n",
       "    </tr>\n",
       "    <tr>\n",
       "      <th>Actual 0</th>\n",
       "      <td>19</td>\n",
       "      <td>141</td>\n",
       "      <td>62</td>\n",
       "    </tr>\n",
       "    <tr>\n",
       "      <th>Actual 1</th>\n",
       "      <td>26</td>\n",
       "      <td>36</td>\n",
       "      <td>211</td>\n",
       "    </tr>\n",
       "  </tbody>\n",
       "</table>\n",
       "</div>"
      ],
      "text/plain": [
       "           Predicted -1  Predicted 0  Predicted 1\n",
       "Actual -1            89           39           50\n",
       "Actual 0             19          141           62\n",
       "Actual 1             26           36          211"
      ]
     },
     "execution_count": 18,
     "metadata": {},
     "output_type": "execute_result"
    }
   ],
   "source": [
    "confusion_df = pd.DataFrame(confusion_matrix(y_test, y_pred))\n",
    "confusion_df.index = ['Actual -1', 'Actual 0', 'Actual 1']\n",
    "confusion_df.columns = ['Predicted -1', 'Predicted 0', 'Predicted 1']\n",
    "confusion_df"
   ]
  },
  {
   "cell_type": "code",
   "execution_count": 19,
   "id": "fc5b96d1",
   "metadata": {
    "scrolled": false
   },
   "outputs": [
    {
     "data": {
      "image/png": "[encoded data removed]",
      "text/plain": [
       "<Figure size 864x576 with 2 Axes>"
      ]
     },
     "metadata": {
      "needs_background": "light"
     },
     "output_type": "display_data"
    }
   ],
   "source": [
    "plt.figure(figsize=(12, 8))\n",
    "sns.heatmap(confusion_df, annot=True, fmt='d', linewidths=0.5) \n",
    "plt.yticks(rotation=0)\n",
    "plt.xticks(rotation=45)\n",
    "plt.show()"
   ]
  },
  {
   "cell_type": "markdown",
   "id": "47eb2a92",
   "metadata": {},
   "source": [
    "### Random Forest"
   ]
  },
  {
   "cell_type": "markdown",
   "id": "4aff4bc5",
   "metadata": {},
   "source": [
    "We'll try now to fit a random forest model (ensemble method) and see if we can get better performance compared to the logistic regression."
   ]
  },
  {
   "cell_type": "code",
   "execution_count": 20,
   "id": "4cd4092b",
   "metadata": {},
   "outputs": [
    {
     "name": "stdout",
     "output_type": "stream",
     "text": [
      "Train accuracy: 0.996\n",
      "Validation accuracy: 0.698\n"
     ]
    }
   ],
   "source": [
    "# instantiate a logistic regression\n",
    "RF_model = RandomForestClassifier()\n",
    "\n",
    "# fit the model to train set only\n",
    "RF_model.fit(X_train_vec, y_train)\n",
    "\n",
    "# score the model\n",
    "print(f'Train accuracy: {RF_model.score(X_train_vec, y_train).round(3)}')\n",
    "print(f'Validation accuracy: {RF_model.score(X_test_vec, y_test).round(3)}')"
   ]
  },
  {
   "cell_type": "markdown",
   "id": "3ac385eb",
   "metadata": {},
   "source": [
    "We got a higher train accuracy and a similar test accuracy compared to the logistic regression. The model is most likely overfitting.\n",
    "\n",
    "Let's have a look at the other metrics and the confusion matrix."
   ]
  },
  {
   "cell_type": "code",
   "execution_count": 21,
   "id": "661a024a",
   "metadata": {},
   "outputs": [],
   "source": [
    "y_pred = RF_model.predict(X_test_vec)"
   ]
  },
  {
   "cell_type": "code",
   "execution_count": 22,
   "id": "b9737292",
   "metadata": {},
   "outputs": [
    {
     "name": "stdout",
     "output_type": "stream",
     "text": [
      "              precision    recall  f1-score   support\n",
      "\n",
      "          -1       0.76      0.54      0.63       178\n",
      "           0       0.63      0.82      0.72       222\n",
      "           1       0.74      0.70      0.72       273\n",
      "\n",
      "    accuracy                           0.70       673\n",
      "   macro avg       0.71      0.69      0.69       673\n",
      "weighted avg       0.71      0.70      0.70       673\n",
      "\n"
     ]
    }
   ],
   "source": [
    "print(classification_report(y_test, y_pred))"
   ]
  },
  {
   "cell_type": "markdown",
   "id": "31c1ffd2",
   "metadata": {},
   "source": [
    "Precision and recall are very similar to what we got with the logistic regression. The two models behave very similarly. "
   ]
  },
  {
   "cell_type": "code",
   "execution_count": 23,
   "id": "ba5958a2",
   "metadata": {},
   "outputs": [
    {
     "data": {
      "text/html": [
       "<div>\n",
       "<style scoped>\n",
       "    .dataframe tbody tr th:only-of-type {\n",
       "        vertical-align: middle;\n",
       "    }\n",
       "\n",
       "    .dataframe tbody tr th {\n",
       "        vertical-align: top;\n",
       "    }\n",
       "\n",
       "    .dataframe thead th {\n",
       "        text-align: right;\n",
       "    }\n",
       "</style>\n",
       "<table border=\"1\" class=\"dataframe\">\n",
       "  <thead>\n",
       "    <tr style=\"text-align: right;\">\n",
       "      <th></th>\n",
       "      <th>Predicted -1</th>\n",
       "      <th>Predicted 0</th>\n",
       "      <th>Predicted 1</th>\n",
       "    </tr>\n",
       "  </thead>\n",
       "  <tbody>\n",
       "    <tr>\n",
       "      <th>Actual -1</th>\n",
       "      <td>96</td>\n",
       "      <td>46</td>\n",
       "      <td>36</td>\n",
       "    </tr>\n",
       "    <tr>\n",
       "      <th>Actual 0</th>\n",
       "      <td>8</td>\n",
       "      <td>183</td>\n",
       "      <td>31</td>\n",
       "    </tr>\n",
       "    <tr>\n",
       "      <th>Actual 1</th>\n",
       "      <td>22</td>\n",
       "      <td>60</td>\n",
       "      <td>191</td>\n",
       "    </tr>\n",
       "  </tbody>\n",
       "</table>\n",
       "</div>"
      ],
      "text/plain": [
       "           Predicted -1  Predicted 0  Predicted 1\n",
       "Actual -1            96           46           36\n",
       "Actual 0              8          183           31\n",
       "Actual 1             22           60          191"
      ]
     },
     "execution_count": 23,
     "metadata": {},
     "output_type": "execute_result"
    }
   ],
   "source": [
    "confusion_df = pd.DataFrame(confusion_matrix(y_test, y_pred))\n",
    "confusion_df.index = ['Actual -1', 'Actual 0', 'Actual 1']\n",
    "confusion_df.columns = ['Predicted -1', 'Predicted 0', 'Predicted 1']\n",
    "confusion_df"
   ]
  },
  {
   "cell_type": "code",
   "execution_count": 24,
   "id": "4a89e88d",
   "metadata": {},
   "outputs": [
    {
     "data": {
      "image/png": "[encoded data removed]",
      "text/plain": [
       "<Figure size 864x576 with 2 Axes>"
      ]
     },
     "metadata": {
      "needs_background": "light"
     },
     "output_type": "display_data"
    }
   ],
   "source": [
    "plt.figure(figsize=(12, 8))\n",
    "sns.heatmap(confusion_df, annot=True, fmt='d', linewidths=0.5) \n",
    "plt.yticks(rotation=0)\n",
    "plt.xticks(rotation=45)\n",
    "plt.show()"
   ]
  },
  {
   "cell_type": "markdown",
   "id": "9a12444e",
   "metadata": {},
   "source": [
    "## Conclusions"
   ]
  },
  {
   "cell_type": "markdown",
   "id": "f37b0b7a",
   "metadata": {},
   "source": [
    "Both models are good predictors for sentiment labels on the tweets.\n",
    "\n",
    "Next step would be including the model into an ML pipeline to get raw tweets, pre-process them and pass them through the model to get the sentiment predction. An API could be built in order to deploy the project and being able to send requests and get predictions."
   ]
  }
 ],
 "metadata": {
  "kernelspec": {
   "display_name": "Python 3 (ipykernel)",
   "language": "python",
   "name": "python3"
  },
  "language_info": {
   "codemirror_mode": {
    "name": "ipython",
    "version": 3
   },
   "file_extension": ".py",
   "mimetype": "text/x-python",
   "name": "python",
   "nbconvert_exporter": "python",
   "pygments_lexer": "ipython3",
   "version": "3.9.7"
  }
 },
 "nbformat": 4,
 "nbformat_minor": 5
}
