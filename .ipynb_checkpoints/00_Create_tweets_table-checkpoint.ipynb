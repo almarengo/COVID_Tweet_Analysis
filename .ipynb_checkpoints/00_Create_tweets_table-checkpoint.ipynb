{
 "cells": [
  {
   "cell_type": "markdown",
   "id": "018fc3d0",
   "metadata": {},
   "source": [
    "# Scrape Tweets Tweepy API and create a table"
   ]
  },
  {
   "cell_type": "markdown",
   "id": "0b96c2b0",
   "metadata": {},
   "source": [
    "This notebook will allow you to use the tool **Scraper** that, given a #hashtag or a serach word and a number of tweets to scrape, it will connect to Tweepy and get non duplicate tweets from the popular social media.\n",
    "\n",
    "The tool and methods are pretty self explanatory. You just need to crete your own account and get your own credentials."
   ]
  },
  {
   "cell_type": "code",
   "execution_count": 1,
   "id": "288dde8b",
   "metadata": {},
   "outputs": [],
   "source": [
    "from utils.scraper import Scraper\n",
    "import pandas as pd"
   ]
  },
  {
   "cell_type": "code",
   "execution_count": 2,
   "id": "df8b0e23",
   "metadata": {},
   "outputs": [],
   "source": [
    "# Initialize the tools that check for valid credentials\n",
    "my_scraper = Scraper()"
   ]
  },
  {
   "cell_type": "code",
   "execution_count": 3,
   "id": "702dd4e5",
   "metadata": {},
   "outputs": [],
   "source": [
    "# pass the method with arguments search word and number ot tweets\n",
    "my_scraper.scrape('#vaccine', 2000)"
   ]
  },
  {
   "cell_type": "markdown",
   "id": "42f73fa8",
   "metadata": {},
   "source": [
    "The tools store the tweets in pandas dataframe, internally."
   ]
  },
  {
   "cell_type": "code",
   "execution_count": 4,
   "id": "0b3d66de",
   "metadata": {},
   "outputs": [
    {
     "data": {
      "text/html": [
       "<div>\n",
       "<style scoped>\n",
       "    .dataframe tbody tr th:only-of-type {\n",
       "        vertical-align: middle;\n",
       "    }\n",
       "\n",
       "    .dataframe tbody tr th {\n",
       "        vertical-align: top;\n",
       "    }\n",
       "\n",
       "    .dataframe thead th {\n",
       "        text-align: right;\n",
       "    }\n",
       "</style>\n",
       "<table border=\"1\" class=\"dataframe\">\n",
       "  <thead>\n",
       "    <tr style=\"text-align: right;\">\n",
       "      <th></th>\n",
       "      <th>TimeStamps</th>\n",
       "      <th>Screen name</th>\n",
       "      <th>Username</th>\n",
       "      <th>Tweets</th>\n",
       "    </tr>\n",
       "  </thead>\n",
       "  <tbody>\n",
       "    <tr>\n",
       "      <th>0</th>\n",
       "      <td>2022-02-25 05:11:24+00:00</td>\n",
       "      <td>BiovoiceNews</td>\n",
       "      <td>BioVoice News</td>\n",
       "      <td>BIO-BUSINESS: Zydus Group announced its new br...</td>\n",
       "    </tr>\n",
       "    <tr>\n",
       "      <th>1</th>\n",
       "      <td>2022-02-25 05:08:18+00:00</td>\n",
       "      <td>3rdworldnetwork</td>\n",
       "      <td>Third World Network</td>\n",
       "      <td>#WTO: Dangers of \"take-it-or-leave-it\" comprom...</td>\n",
       "    </tr>\n",
       "    <tr>\n",
       "      <th>2</th>\n",
       "      <td>2022-02-25 05:06:03+00:00</td>\n",
       "      <td>NST_Online</td>\n",
       "      <td>New Straits Times</td>\n",
       "      <td>#NSTnation State Health director Dr Othman War...</td>\n",
       "    </tr>\n",
       "    <tr>\n",
       "      <th>3</th>\n",
       "      <td>2022-02-25 05:00:00+00:00</td>\n",
       "      <td>ppe_china</td>\n",
       "      <td>ChinaPPE</td>\n",
       "      <td>Non-Medical Face Mask KN95\\nProtect you from n...</td>\n",
       "    </tr>\n",
       "    <tr>\n",
       "      <th>4</th>\n",
       "      <td>2022-02-25 04:59:49+00:00</td>\n",
       "      <td>Dog8Bone</td>\n",
       "      <td>Cryptogarb</td>\n",
       "      <td>https://t.co/4ySms7FGHF ForSale\\n#Vaccine #COV...</td>\n",
       "    </tr>\n",
       "    <tr>\n",
       "      <th>...</th>\n",
       "      <td>...</td>\n",
       "      <td>...</td>\n",
       "      <td>...</td>\n",
       "      <td>...</td>\n",
       "    </tr>\n",
       "    <tr>\n",
       "      <th>2088</th>\n",
       "      <td>2022-02-21 14:15:00+00:00</td>\n",
       "      <td>afloenews</td>\n",
       "      <td>AFLOE News Network</td>\n",
       "      <td>With no public announcements, the Food and Dru...</td>\n",
       "    </tr>\n",
       "    <tr>\n",
       "      <th>2089</th>\n",
       "      <td>2022-02-21 14:14:41+00:00</td>\n",
       "      <td>Akusomcpeith</td>\n",
       "      <td>Felix🕯</td>\n",
       "      <td>@UN You could've had it had U stood up to #Big...</td>\n",
       "    </tr>\n",
       "    <tr>\n",
       "      <th>2090</th>\n",
       "      <td>2022-02-21 14:12:45+00:00</td>\n",
       "      <td>StephanosTesfu</td>\n",
       "      <td>Tesfu Stephanos</td>\n",
       "      <td>Wow! It has been a year already since your ina...</td>\n",
       "    </tr>\n",
       "    <tr>\n",
       "      <th>2091</th>\n",
       "      <td>2022-02-21 14:10:47+00:00</td>\n",
       "      <td>TheQuint</td>\n",
       "      <td>The Quint</td>\n",
       "      <td>After Bharat Biotech's #Covaxin, Biological E ...</td>\n",
       "    </tr>\n",
       "    <tr>\n",
       "      <th>2092</th>\n",
       "      <td>2022-02-21 14:05:02+00:00</td>\n",
       "      <td>Moneyweb</td>\n",
       "      <td>Moneyweb News</td>\n",
       "      <td>SA's government is shortening the interval bet...</td>\n",
       "    </tr>\n",
       "  </tbody>\n",
       "</table>\n",
       "<p>2093 rows × 4 columns</p>\n",
       "</div>"
      ],
      "text/plain": [
       "                    TimeStamps      Screen name             Username  \\\n",
       "0    2022-02-25 05:11:24+00:00     BiovoiceNews        BioVoice News   \n",
       "1    2022-02-25 05:08:18+00:00  3rdworldnetwork  Third World Network   \n",
       "2    2022-02-25 05:06:03+00:00       NST_Online    New Straits Times   \n",
       "3    2022-02-25 05:00:00+00:00        ppe_china             ChinaPPE   \n",
       "4    2022-02-25 04:59:49+00:00         Dog8Bone           Cryptogarb   \n",
       "...                        ...              ...                  ...   \n",
       "2088 2022-02-21 14:15:00+00:00        afloenews   AFLOE News Network   \n",
       "2089 2022-02-21 14:14:41+00:00     Akusomcpeith               Felix🕯   \n",
       "2090 2022-02-21 14:12:45+00:00   StephanosTesfu      Tesfu Stephanos   \n",
       "2091 2022-02-21 14:10:47+00:00         TheQuint            The Quint   \n",
       "2092 2022-02-21 14:05:02+00:00         Moneyweb        Moneyweb News   \n",
       "\n",
       "                                                 Tweets  \n",
       "0     BIO-BUSINESS: Zydus Group announced its new br...  \n",
       "1     #WTO: Dangers of \"take-it-or-leave-it\" comprom...  \n",
       "2     #NSTnation State Health director Dr Othman War...  \n",
       "3     Non-Medical Face Mask KN95\\nProtect you from n...  \n",
       "4     https://t.co/4ySms7FGHF ForSale\\n#Vaccine #COV...  \n",
       "...                                                 ...  \n",
       "2088  With no public announcements, the Food and Dru...  \n",
       "2089  @UN You could've had it had U stood up to #Big...  \n",
       "2090  Wow! It has been a year already since your ina...  \n",
       "2091  After Bharat Biotech's #Covaxin, Biological E ...  \n",
       "2092  SA's government is shortening the interval bet...  \n",
       "\n",
       "[2093 rows x 4 columns]"
      ]
     },
     "execution_count": 4,
     "metadata": {},
     "output_type": "execute_result"
    }
   ],
   "source": [
    "# Drop duplicated rows\n",
    "my_scraper.df.drop_duplicates()"
   ]
  },
  {
   "cell_type": "markdown",
   "id": "a1c9c6bb",
   "metadata": {},
   "source": [
    "The method *.save_cleaned_df()* allows to save the df as a csv file"
   ]
  },
  {
   "cell_type": "code",
   "execution_count": 6,
   "id": "a2927930",
   "metadata": {},
   "outputs": [],
   "source": [
    "my_scraper.save_cleaned_df()"
   ]
  },
  {
   "cell_type": "markdown",
   "id": "78341cf8",
   "metadata": {},
   "source": [
    "And that's it! We have scraped 2,000 tweets with topic ***#vaccine***"
   ]
  }
 ],
 "metadata": {
  "kernelspec": {
   "display_name": "Python 3 (ipykernel)",
   "language": "python",
   "name": "python3"
  },
  "language_info": {
   "codemirror_mode": {
    "name": "ipython",
    "version": 3
   },
   "file_extension": ".py",
   "mimetype": "text/x-python",
   "name": "python",
   "nbconvert_exporter": "python",
   "pygments_lexer": "ipython3",
   "version": "3.8.8"
  }
 },
 "nbformat": 4,
 "nbformat_minor": 5
}
